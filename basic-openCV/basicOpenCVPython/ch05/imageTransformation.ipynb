{
 "cells": [
  {
   "cell_type": "markdown",
   "metadata": {},
   "source": [
    "### 1. 색상 공간 변환\n",
    "\n",
    "``` python\n",
    "dst = cv2.cvtColor(\n",
    "    src,\n",
    "    code,\n",
    "    dstCn = None\n",
    ")\n",
    "```"
   ]
  },
  {
   "cell_type": "code",
   "execution_count": 5,
   "metadata": {},
   "outputs": [],
   "source": [
    "import cv2\n",
    "\n",
    "src = cv2.imread(\"C:\\\\Source\\\\openCV\\\\basic-openCV\\\\images\\\\crow.jpg\")\n",
    "dst = cv2.cvtColor(src, cv2.COLOR_BGR2HLS)\n",
    "\n",
    "cv2.imshow(\"dst\", dst)\n",
    "cv2.waitKey(0)\n",
    "cv2.destroyAllWindows()"
   ]
  },
  {
   "cell_type": "markdown",
   "metadata": {},
   "source": [
    "### 2. HSV 색상 공간\n",
    "\n",
    "- 색상(Hue)  \n",
    "일반적으로 0~360 사이의 값으로 표현  \n",
    "but, 8비트 이미지로눈 0~255의 값만 할당 가능  \n",
    "=> 255의 절반인 0~179 범위로 사용.\n",
    "\n",
    "    ※ **색상의 최솟값과 최댓값에서 빨간색 범위가 겹침. (원형 형태)**\n",
    "\n",
    "- 채도(Saturation): 0~255 범위\n",
    "- 명도(Value): 0~255 범위\n",
    "\n",
    "  \n",
    "``` python\n",
    "# 채널 분리 함수\n",
    "mv = cv2.split(\n",
    "    src\n",
    ")\n",
    "\n",
    "# 채널 병합 함수\n",
    "dst = cv2.merge(\n",
    "    mv\n",
    ")\n",
    "\n",
    "# 리스트 반환 형식 변경\n",
    "c0, c1, c2 = cv2.split(src)\n",
    "\n",
    "# 리스트 형식 입력\n",
    "dst = cv2.merge([c0, c1, c2])\n",
    "\n",
    "# 배열 요소의 범위 설정\n",
    "dst = cv2.inRange(\n",
    "    src,\n",
    "    lowerb, # 낮은 범위\n",
    "    upperb  # 높은 범위\n",
    ")\n",
    "```\n",
    "\n",
    "\n"
   ]
  },
  {
   "cell_type": "code",
   "execution_count": 11,
   "metadata": {},
   "outputs": [],
   "source": [
    "# Hue 공간 색상 검출\n",
    "\n",
    "src = cv2.imread(\"C:\\\\Source\\\\openCV\\\\basic-openCV\\\\images\\\\tomato.jpg\")\n",
    "hsv = cv2.cvtColor(src, cv2.COLOR_BGR2HSV)\n",
    "\n",
    "\n",
    "h, s, v = cv2.split(hsv)\n",
    "h_red = cv2.inRange(h, 0, 5)\n",
    "\n",
    "dst = cv2.bitwise_and(hsv, hsv, mask=h_red)\n",
    "dst = cv2.cvtColor(dst, cv2.COLOR_HSV2BGR)\n",
    "\n",
    "cv2.imshow(\"src\", src)\n",
    "cv2.imshow(\"dst\", dst)\n",
    "cv2.waitKey(0)\n",
    "cv2.destroyAllWindows()"
   ]
  },
  {
   "cell_type": "markdown",
   "metadata": {},
   "source": [
    "``` python\n",
    "# 배열 병합 함수\n",
    "dst = cv2.addWeighted(\n",
    "    src1,\n",
    "    alpha,\n",
    "    src2,\n",
    "    beta,\n",
    "    gamma,\n",
    "    dtype = None\n",
    ")\n",
    "```\n",
    "배열 병합 함수 수식\n",
    "dst = src1 x alpha + src2 x beta + gamma"
   ]
  },
  {
   "cell_type": "code",
   "execution_count": 19,
   "metadata": {},
   "outputs": [],
   "source": [
    "src = cv2.imread(\"C:\\\\Source\\\\openCV\\\\basic-openCV\\\\images\\\\tomato.jpg\")\n",
    "hsv = cv2.cvtColor(src, cv2.COLOR_BGR2HSV)\n",
    "\n",
    "h, s, v = cv2.split(hsv)\n",
    "\n",
    "orange = cv2.inRange(hsv, (8, 100, 100), (20, 255, 255))\n",
    "blue = cv2.inRange(hsv, (110, 100, 100), (130, 255, 255))\n",
    "mix_color = cv2.addWeighted(orange, 1.0, blue, 1.0, 0.0)\n",
    "\n",
    "dst = cv2.bitwise_and(hsv, hsv, mask = mix_color)\n",
    "dst = cv2.cvtColor(dst, cv2.COLOR_HSV2BGR)\n",
    "\n",
    "cv2.imshow(\"dst\", dst)\n",
    "cv2.waitKey(0)\n",
    "cv2.destroyAllWindows()"
   ]
  },
  {
   "cell_type": "markdown",
   "metadata": {},
   "source": [
    "3. 이진화\n",
    "\n",
    "임계값보다 낮은 픽셀값은 0이나 원본 픽셀값으로 변경, 임계값 보다 높은 픽셀값은 최댓값으로 변경\n",
    "``` python\n",
    "retval, dst = cv2.threshold(\n",
    "    src,\n",
    "    thresh, # 임계값\n",
    "    maxval, # 최댓값\n",
    "    type\n",
    ")\n",
    "```\n",
    "\n",
    "일반적으로 **단일 채널 이미지**에서 활용  \n",
    "**다중 채널 이미지**에서 이진화를 적용할 경우 각 채널을 분히해서 이진화 함수를 적용한 후 이미지를 다시 병합해서 반환"
   ]
  },
  {
   "cell_type": "code",
   "execution_count": 20,
   "metadata": {},
   "outputs": [],
   "source": [
    "src = cv2.imread(\"C:\\\\Source\\\\openCV\\\\basic-openCV\\\\images\\\\swan.jpg\")\n",
    "_, binary = cv2.threshold(src, 127, 255, cv2.THRESH_BINARY)\n",
    "\n",
    "cv2.imshow(\"binary\", binary)\n",
    "cv2.waitKey(0)\n",
    "cv2.destroyAllWindows()"
   ]
  },
  {
   "cell_type": "markdown",
   "metadata": {},
   "source": [
    "알고리즘은 디지털 영상 처리에서 자세히 공부하기...\n",
    "- 오츠 알고리즘\n",
    "    - 이미지의 밝기 분포(히스토그램)을 통해 최적의 임곗값을 찾아 이진화하는 알고리즘\n",
    "    - 가능한 모든 임계값을 고려해서 이미지 내의 픽셀들을 두 개의 클래스로 분류했을 때 클래스 간의 분산을 최소화하거나 차이를 최대화하는 임곗값\n",
    "    - 가능한 모든 임계값을 고려하므로 느림.\n",
    "    - 수식: **σ² = α x σ₁² + β x σ₂²** (이건 클래스 내의 분산 아닌가)\n",
    "    - Bimoadl Image에서 사용하기 적합 (Bimoadl Image\" 히스토그램상에서 두개의 피크를 치는 형태의 이미지)\n",
    "\n",
    "        https://aliencoder.tistory.com/53\n",
    "    \n"
   ]
  },
  {
   "cell_type": "markdown",
   "metadata": {},
   "source": [
    "정확히는 모르겠음.\n",
    "- 삼각형 알고리즘\n",
    "    - 이미지의 밝기 분포(히스토그램)을 통해 최적의 임곗값을 찾아 이진화하는 알고리즘.\n",
    "    - 히스토그램에서 최대 거리를 구성할 수 있는 임계값을 찾아 이진화를 적용.\n",
    "    - 삼각형의 빗변 사이의 거리가 최대일때 수직인 선이 히스토그램의 최대 거리\n",
    "    - 즉, 히스토그램에 그려진 선 사이의 거리가 최대인 지역값이 임계값\n"
   ]
  },
  {
   "cell_type": "markdown",
   "metadata": {},
   "source": []
  }
 ],
 "metadata": {
  "kernelspec": {
   "display_name": "Python 3",
   "language": "python",
   "name": "python3"
  },
  "language_info": {
   "codemirror_mode": {
    "name": "ipython",
    "version": 3
   },
   "file_extension": ".py",
   "mimetype": "text/x-python",
   "name": "python",
   "nbconvert_exporter": "python",
   "pygments_lexer": "ipython3",
   "version": "3.12.2"
  }
 },
 "nbformat": 4,
 "nbformat_minor": 2
}
