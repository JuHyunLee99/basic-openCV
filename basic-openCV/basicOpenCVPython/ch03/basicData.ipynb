{
 "cells": [
  {
   "cell_type": "markdown",
   "metadata": {},
   "source": [
    "## 데이터 타입과 연산\n",
    "### 리스트 자료형"
   ]
  },
  {
   "cell_type": "code",
   "execution_count": 2,
   "metadata": {},
   "outputs": [],
   "source": [
    "import numpy as np\n",
    "import cv2\n",
    "\n",
    "# 실행을 위한 추가 코드\n",
    "src = cv2.imread(\"OpenCV_Logo.png\", 0)\n",
    "\n",
    "dsize = [cv2.THRESH_BINARY, cv2.THRESH_BINARY_INV, cv2.THRESH_OTSU]\n",
    "img = [None] * len(dsize)\n",
    "\n",
    "for i in range(len(dsize)):\n",
    "    ret, img[i] = cv2.threshold(src, 100, 255, dsize[i])    # 이진화\n",
    "\n",
    "cv2.imshow(\"img_0\", img[0])\n",
    "\n",
    "# 실행을 위한 추가 코드\n",
    "cv2.waitKey(0)\n",
    "cv2.destroyAllWindows()"
   ]
  },
  {
   "cell_type": "markdown",
   "metadata": {},
   "source": [
    "### 튜플 자료형"
   ]
  },
  {
   "cell_type": "code",
   "execution_count": 14,
   "metadata": {},
   "outputs": [],
   "source": [
    "img = cv2.imread(\"OpenCV_Logo.png\")\n",
    "\n",
    "center = [100,100]\n",
    "red = (0,0,255)\n",
    "\n",
    "cv2.circle(img, tuple(center), 30, red, 3)  # 매개 변수로 튜플을 전단해야 오류가 발생하지 않음.\n",
    "\n",
    "cv2.imshow(\"img\", img)\n",
    "cv2.waitKey(0)\n",
    "cv2.destroyAllWindows()"
   ]
  },
  {
   "cell_type": "markdown",
   "metadata": {},
   "source": [
    "### 사전 자료형"
   ]
  },
  {
   "cell_type": "code",
   "execution_count": 19,
   "metadata": {},
   "outputs": [],
   "source": [
    "img = cv2.imread(\"tomato.jpg\")\n",
    "\n",
    "Color_Code = {\n",
    "    \"yellow\" : [(20, 100, 100), (33, 255, 255)],\n",
    "    \"green\" : [(41, 100, 100), (70, 255, 255)],\n",
    "    \"blue\" : [(90, 100, 100), (150, 100, 255)]\n",
    "}\n",
    "\n",
    "# 배열 요소의 특점 범위를 설정해 범위 내의 값만 반환하는 함수\n",
    "result = cv2.inRange(img, Color_Code['yellow'][0], Color_Code['yellow'][1])\n",
    "\n",
    "cv2.imshow(\"result\", result)\n",
    "cv2.waitKey(0)\n",
    "cv2.destroyAllWindows()"
   ]
  },
  {
   "cell_type": "markdown",
   "metadata": {},
   "source": [
    "### 집합 자료형"
   ]
  },
  {
   "cell_type": "code",
   "execution_count": 20,
   "metadata": {},
   "outputs": [
    {
     "name": "stdout",
     "output_type": "stream",
     "text": [
      "{(210, 250), (50, 0), (170, 180), (170, 170)}\n",
      "{(50, 0), (210, 250)}\n",
      "{(170, 180)}\n"
     ]
    }
   ],
   "source": [
    "pt1 = [(50, 0), (170, 180), (210, 250)]\n",
    "pt2 = [(50, 0), (170, 170), (210, 250)]\n",
    "\n",
    "union = set(pt1) |set(pt2)\n",
    "intersection = set(pt1) & set(pt2)\n",
    "difference = set(pt1) - set(pt2)\n",
    "\n",
    "print(union)\n",
    "print(intersection)\n",
    "print(difference)"
   ]
  }
 ],
 "metadata": {
  "kernelspec": {
   "display_name": "Python 3",
   "language": "python",
   "name": "python3"
  },
  "language_info": {
   "codemirror_mode": {
    "name": "ipython",
    "version": 3
   },
   "file_extension": ".py",
   "mimetype": "text/x-python",
   "name": "python",
   "nbconvert_exporter": "python",
   "pygments_lexer": "ipython3",
   "version": "3.12.2"
  }
 },
 "nbformat": 4,
 "nbformat_minor": 2
}
