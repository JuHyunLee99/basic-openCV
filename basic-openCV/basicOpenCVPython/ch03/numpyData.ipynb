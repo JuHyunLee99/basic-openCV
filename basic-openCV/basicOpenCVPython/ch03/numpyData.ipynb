{
 "cells": [
  {
   "cell_type": "markdown",
   "metadata": {},
   "source": [
    "## Numpy 데이터\n",
    "### Numpy 행렬"
   ]
  },
  {
   "cell_type": "code",
   "execution_count": 5,
   "metadata": {},
   "outputs": [
    {
     "name": "stdout",
     "output_type": "stream",
     "text": [
      "2\n",
      "(2, 3)\n",
      "int32\n"
     ]
    }
   ],
   "source": [
    "import numpy as np\n",
    "\n",
    "array = np.array([[1, 2, 3],\n",
    "                  [4, 5, 6]])   # 참조 형식임.\n",
    "\n",
    "print(array.ndim)\n",
    "print(array.shape)\n",
    "print(array.dtype)"
   ]
  },
  {
   "cell_type": "markdown",
   "metadata": {},
   "source": [
    "### ndarray클래스 - N차원 배열\n",
    "\n",
    "``` python\n",
    "# array 함수 정의\n",
    "np.array( object, dtype = None, copy = True, order = 'K', subok = False, ndmin = 0 )\n",
    "```"
   ]
  },
  {
   "cell_type": "code",
   "execution_count": 9,
   "metadata": {},
   "outputs": [
    {
     "name": "stdout",
     "output_type": "stream",
     "text": [
      "[[4 5 6]\n",
      " [4 5 6]]\n",
      "[[[1.+0.j 2.+0.j 3.+0.j]]]\n",
      "[[4 5 6]\n",
      " [4 5 6]]\n",
      "<class 'numpy.matrix'>\n"
     ]
    }
   ],
   "source": [
    "array1 = np.array([[1, 2, 3], [4, 5, 6]])\n",
    "array2 = np.array([1, 2, 3], dtype=complex, ndmin=3)    # complex: 복소수 형태\n",
    "array3 = np.array(array1, copy=False)\n",
    "array4 = np.array(np.mat('1 2; 3 4'), subok=True)\n",
    "\n",
    "array1[0] = [4, 5, 6]\n",
    "\n",
    "print(array1)\n",
    "print(array2)\n",
    "print(array3)\n",
    "print(type(array4))"
   ]
  },
  {
   "cell_type": "markdown",
   "metadata": {},
   "source": [
    "### 배열의 개별 단위 요소에 접근하기\n",
    "\n",
    "- 새로운 ndarray 변수에 객체를 덮어씌울 경우 원본 참조(얕은 복사)\n",
    "- np.array의 copy매개변수는 깊은 복사로 객체를 복제"
   ]
  },
  {
   "cell_type": "code",
   "execution_count": 11,
   "metadata": {},
   "outputs": [
    {
     "name": "stdout",
     "output_type": "stream",
     "text": [
      "3\n",
      "2\n",
      "4\n"
     ]
    }
   ],
   "source": [
    "array1 = np.array([1, 2, 3])\n",
    "array2 = np.array([[1,2],\n",
    "                   [3, 4]])\n",
    "array3 = np.array([[[1, 2],\n",
    "                    [3, 4],\n",
    "                    [5, 6],\n",
    "                    [7, 8]]])\n",
    "\n",
    "print(array1[-1])\n",
    "print(array2[0][1])\n",
    "print(array3[0][1][1])"
   ]
  },
  {
   "cell_type": "markdown",
   "metadata": {},
   "source": [
    "### 배열의 블록 단위 요소에 접근하기"
   ]
  },
  {
   "cell_type": "code",
   "execution_count": 12,
   "metadata": {},
   "outputs": [
    {
     "name": "stdout",
     "output_type": "stream",
     "text": [
      "2\n",
      "4\n",
      "6\n",
      "8\n"
     ]
    }
   ],
   "source": [
    "array = np.array([[[1,2],\n",
    "                   [3,4],\n",
    "                   [5,6],\n",
    "                   [7,8]]])\n",
    "\n",
    "for i in array[0]:\n",
    "    for j in i:\n",
    "        if j % 2 == 0:\n",
    "            print(j)"
   ]
  },
  {
   "cell_type": "code",
   "execution_count": 14,
   "metadata": {},
   "outputs": [
    {
     "name": "stdout",
     "output_type": "stream",
     "text": [
      "[[ 6  7  8  9 10]\n",
      " [11 12 13 14 15]]\n",
      "[[ 1  2  3  4  5]\n",
      " [11 12 13 14 15]]\n",
      "[[12 14]\n",
      " [17 19]]\n"
     ]
    }
   ],
   "source": [
    "array = np.array([[1,2, 3, 4, 5],\n",
    "                   [6, 7, 8, 9, 10],\n",
    "                   [11, 12, 13, 14, 15],\n",
    "                   [16, 17, 18, 19, 20]])\n",
    "\n",
    "print(array[1:3])\n",
    "print(array[::2])\n",
    "print(array[2:, 1::2])"
   ]
  },
  {
   "cell_type": "markdown",
   "metadata": {},
   "source": [
    "### 배열 차원 변형 \n",
    "#### 배열의 차원 변형 reshape()"
   ]
  },
  {
   "cell_type": "code",
   "execution_count": 18,
   "metadata": {},
   "outputs": [
    {
     "name": "stdout",
     "output_type": "stream",
     "text": [
      "[[[ 0  1]\n",
      "  [ 2  3]\n",
      "  [ 4  5]]\n",
      "\n",
      " [[ 6  7]\n",
      "  [ 8  9]\n",
      "  [10 11]]]\n",
      "[[ 0  2  4  6  8 10]\n",
      " [ 1  3  5  7  9 11]]\n"
     ]
    }
   ],
   "source": [
    "array = np.arange(12)\n",
    "\n",
    "reshape1 = array.reshape(2, 3, 2)\n",
    "reshape2 = np.reshape(array, (2,-1), order ='F')    # -1은 결정되는 값 할당\n",
    "\n",
    "print(reshape1)\n",
    "print(reshape2)"
   ]
  },
  {
   "cell_type": "markdown",
   "metadata": {},
   "source": [
    "#### 배열의 차원 확장 (newaxis)"
   ]
  },
  {
   "cell_type": "code",
   "execution_count": 21,
   "metadata": {},
   "outputs": [
    {
     "name": "stdout",
     "output_type": "stream",
     "text": [
      "[[0 1 2 3]]\n",
      "[[0]\n",
      " [1]\n",
      " [2]\n",
      " [3]]\n"
     ]
    }
   ],
   "source": [
    "array = np.arange(4)\n",
    "\n",
    "axis1 = array[np.newaxis]\n",
    "axis2 = array[:, np.newaxis]\n",
    "\n",
    "print(axis1)\n",
    "print(axis2)"
   ]
  },
  {
   "cell_type": "markdown",
   "metadata": {},
   "source": [
    "#### 배열의 차원 축소"
   ]
  },
  {
   "cell_type": "code",
   "execution_count": 27,
   "metadata": {},
   "outputs": [
    {
     "name": "stdout",
     "output_type": "stream",
     "text": [
      "[[ 0  1  2  3]\n",
      " [ 4  5  6  7]\n",
      " [ 8  9 10 11]]\n",
      "[ 0  4  8  1  5  9  2  6 10  3  7 11]\n",
      "[ 0  1  2  3  4  5  6  7  8  9 10 11]\n"
     ]
    }
   ],
   "source": [
    "array = np.arange(12).reshape(3, -1)\n",
    "\n",
    "flat1 = array.flatten(order='F')    # 메모리 레이아웃 Fortran 스타일\n",
    "flat2 = array.ravel()               # C스타일\n",
    "\n",
    "print(array)\n",
    "print(flat1)\n",
    "print(flat2)"
   ]
  },
  {
   "cell_type": "markdown",
   "metadata": {},
   "source": [
    "### 배열 병합 및 분리"
   ]
  },
  {
   "cell_type": "code",
   "execution_count": 34,
   "metadata": {},
   "outputs": [
    {
     "name": "stdout",
     "output_type": "stream",
     "text": [
      "[[[ 0  1  2]\n",
      "  [ 3  4  5]]\n",
      "\n",
      " [[ 6  7  8]\n",
      "  [ 9 10 11]]] \n",
      "\n",
      "\n",
      "[[[ 0  6]\n",
      "  [ 1  7]\n",
      "  [ 2  8]]\n",
      "\n",
      " [[ 3  9]\n",
      "  [ 4 10]\n",
      "  [ 5 11]]]\n"
     ]
    }
   ],
   "source": [
    "array1 = np.arange(6).reshape(2,3)\n",
    "array2 = np.arange(6, 12).reshape(2,3)\n",
    "\n",
    "merge1 = np.stack([array1, array2], axis=0)\n",
    "merge2 = np.stack([array1, array2], axis=-1)\n",
    "print(merge1, \"\\n\\n\")\n",
    "print(merge2)"
   ]
  },
  {
   "cell_type": "code",
   "execution_count": 36,
   "metadata": {},
   "outputs": [
    {
     "name": "stdout",
     "output_type": "stream",
     "text": [
      "[array([[0, 1, 2, 3, 4]]), array([[5, 6, 7, 8, 9]])]\n",
      "[array([[0, 1],\n",
      "       [5, 6]]), array([[2],\n",
      "       [7]]), array([[3, 4],\n",
      "       [8, 9]])]\n"
     ]
    }
   ],
   "source": [
    "array = np.arange(10).reshape(2,5)\n",
    "\n",
    "# np.split(array, index, axis=n)\n",
    "detach1 = np.split(array, 2, axis=0)\n",
    "# np.split(array, sections, axis=n)\n",
    "detach2 = np.split(array, [2,3], axis=1)\n",
    "\n",
    "print(detach1)\n",
    "print(detach2)"
   ]
  },
  {
   "cell_type": "markdown",
   "metadata": {},
   "source": [
    "### 배열 연산\n",
    "\n",
    "- math 라이브러리는 실수에 대해서만 연산을 지원.  \n",
    "컨테이너 자료형에 대해서는 연산이 불가능. 반복문 등으로 배열 연산을 수행.  \n",
    "\n",
    "- Numpy배열은 **범용 함수**를 제공.  \n",
    "범용함수는 **브로드캐스팅** 및 **형식 캐스팅**기능을 ndarray클래스로 지원,  \n",
    "배열의 요소별 연산을 고속으로 수행하는 벡터화된 **래퍼 함수**\n",
    "\n",
    "    - 브로드캐스팅  \n",
    "    Numpy배열에서 차원의 크기가 서로 다른 배열에서도 산술 연산이 가능하게 하는 원리\n",
    "        1. 차원이 더 낮은 배열이 더 높은 배열과 같은 차원의 배열로 인식된다. ex)  (1,2)와 (1,4,2)의 연산 => (1,1,2)와 (1,4,2)의 연산 \n",
    "        2. 반환된 배열은 연산을 수행한 배열 중 차원의 수(ndim)가 가장 큰 배열이 된다.\n",
    "        3. 연산에 사용된 배열과 반환된 배열의 차원의 크기(shape)가 같거나 1일 경우 브로드캐스팅이 가능.\n",
    "        4. 브로드캐스팅에 적용된 배열의 차원 크기는 연산에 사용된 배열의 차원의 크기에 대한 최소 공배수\n",
    "        ex) (6, 2, 1), (2, 3) => (6, 2, 1), (1, 2, 3) => (6, 2, 3)\n",
    "    - 형식 캐스팅  \n",
    "    두 배열의 자료형을 비교해 표현 범위가 더 넓은 자료형을 선택하는 것.\n",
    "\n"
   ]
  },
  {
   "cell_type": "code",
   "execution_count": 42,
   "metadata": {},
   "outputs": [
    {
     "name": "stdout",
     "output_type": "stream",
     "text": [
      "[[2.5 4.5]\n",
      " [4.5 6.5]]\n"
     ]
    }
   ],
   "source": [
    "array1 = np.array([1,2,3,4]).reshape(2,2)\n",
    "array2 = np.array([1.5, 2.5])\n",
    "\n",
    "add = array1 + array2\n",
    "\n",
    "print(add)"
   ]
  },
  {
   "cell_type": "markdown",
   "metadata": {},
   "source": [
    "규칙 1: 두 배열의 차원 수가 다르면, 형태가 더 작은 배열의 앞에 1을 추가하여 차원 수를 맞춥니다.  \n",
    "  - array2의 형태는 원래 (2,)입니다. 이를 (1, 2)로 변경하여 차원 수를 맞춥니다.\n",
    "\n",
    "규칙 2: 특정 차원에서 크기가 1인 배열은 그 차원에 대해 반복되어 다른 배열의 크기에 맞춰집니다.  \n",
    "  - array2가 (1, 2)로 변경된 후, 첫 번째 차원(행)을 따라 array1의 크기인 2에 맞추기 위해 반복됩니다. 즉, array2는 이제 [[1.5, 2.5], [1.5, 2.5]]와 같이 간주됩니다.\n",
    "\n",
    "규칙 3: 모든 차원에서 크기가 일치하거나, 그 차원의 크기가 1인 경우에만 두 배열 간의 연산이 가능합니다."
   ]
  },
  {
   "cell_type": "markdown",
   "metadata": {},
   "source": [
    "### matrix 클래스\n",
    "행렬 연산에 특화된 2차원 배열.\n",
    "\n",
    "1. ndarray 클래스와의 차이점  \n",
    "ndarray 클래스에서는 곱(\\*)과 제곱(\\*\\*) 연산을 각 원소에 대해 수행  \n",
    "matrix 클래스에서는 곱(\\*)과 제곱(\\*\\*)을 행렬 간의 연산으로 처리\n",
    "\n",
    "2.속성\n",
    "- *.T : 전치\n",
    "- *.H : 공액 복소수 전치\n",
    "- *.I : 곱의 역함수,\n",
    "- *.A : ndarray 클래스로 변환\n",
    "\n",
    "** Numpy라이브러리에서는 matrix 클래스의 사용을 권장하지 않음. 가능하다면 ndarray클래스를 사용해 연산을 처리"
   ]
  },
  {
   "cell_type": "code",
   "execution_count": 44,
   "metadata": {},
   "outputs": [
    {
     "name": "stdout",
     "output_type": "stream",
     "text": [
      "[[26 30]\n",
      " [38 44]]\n",
      "[[ 7 10]\n",
      " [15 22]]\n"
     ]
    }
   ],
   "source": [
    "arrray1 = np.array([1,2,3,4]).reshape(2,2)\n",
    "array2 = np.array([5,6,7,8]).reshape(2,2)\n",
    "\n",
    "mat1 = np.mat(array1)\n",
    "mat2 = np.mat(array2)\n",
    "\n",
    "print(mat1.T * mat2)\n",
    "print(mat1 ** 2)"
   ]
  },
  {
   "cell_type": "markdown",
   "metadata": {},
   "source": [
    "### 관심영역"
   ]
  },
  {
   "cell_type": "code",
   "execution_count": 46,
   "metadata": {},
   "outputs": [
    {
     "name": "stdout",
     "output_type": "stream",
     "text": [
      "(1280, 1920, 3)\n",
      "(300, 300, 3)\n"
     ]
    }
   ],
   "source": [
    "array = np.zeros((1280, 1920, 3), np.uint8)\n",
    "\n",
    "x, y, w, h = 100, 100, 300, 300\n",
    "roi = array[x:x+w, y:y+h]\n",
    "\n",
    "print(array.shape)\n",
    "print(roi.shape)"
   ]
  },
  {
   "cell_type": "markdown",
   "metadata": {},
   "source": [
    "### 관심 채널"
   ]
  },
  {
   "cell_type": "code",
   "execution_count": 47,
   "metadata": {},
   "outputs": [
    {
     "name": "stdout",
     "output_type": "stream",
     "text": [
      "(1280, 1920, 3)\n",
      "(1280, 1920)\n"
     ]
    }
   ],
   "source": [
    "array = np.zeros((1280, 1920, 3), np.uint8)\n",
    "\n",
    "coi = array[:,:,0]\n",
    "\n",
    "print(array.shape)\n",
    "print(coi.shape)"
   ]
  }
 ],
 "metadata": {
  "kernelspec": {
   "display_name": "Python 3",
   "language": "python",
   "name": "python3"
  },
  "language_info": {
   "codemirror_mode": {
    "name": "ipython",
    "version": 3
   },
   "file_extension": ".py",
   "mimetype": "text/x-python",
   "name": "python",
   "nbconvert_exporter": "python",
   "pygments_lexer": "ipython3",
   "version": "3.12.2"
  }
 },
 "nbformat": 4,
 "nbformat_minor": 2
}
