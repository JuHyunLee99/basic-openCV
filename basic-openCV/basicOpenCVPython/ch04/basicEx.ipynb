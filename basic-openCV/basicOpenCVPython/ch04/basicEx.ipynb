{
 "cells": [
  {
   "cell_type": "markdown",
   "metadata": {},
   "source": [
    "### 기초 예제\n",
    "#### 1. 이미지 입력\n",
    "\n",
    "``` python\n",
    "cv2.imread(\n",
    "    fileName,\n",
    "    flags = cv2.IMREAD_COLOR\n",
    ")\n",
    "```\n",
    "\n",
    "기본 플래그 : 8비트 3채녈, BGR => ((height, width, 3), np.uint8)"
   ]
  },
  {
   "cell_type": "code",
   "execution_count": 3,
   "metadata": {},
   "outputs": [
    {
     "name": "stdout",
     "output_type": "stream",
     "text": [
      "2 (739, 600) uint8\n"
     ]
    }
   ],
   "source": [
    "import numpy as np\n",
    "import cv2\n",
    "\n",
    "src = cv2.imread(\"OpenCV_Logo.png\", cv2.IMREAD_GRAYSCALE)\n",
    "# cv2.IMREAD_GRAYSCALE : 단일 채널 그레이스케일로 이미지 변환\n",
    "print(src.ndim, src.shape, src.dtype)"
   ]
  },
  {
   "cell_type": "markdown",
   "metadata": {},
   "source": [
    "#### 2. 이미지 출력\n",
    "``` python\n",
    "cv2.imshow(\n",
    "    winname,\n",
    "    ndarray\n",
    ")\n",
    "```"
   ]
  },
  {
   "cell_type": "code",
   "execution_count": 4,
   "metadata": {},
   "outputs": [],
   "source": [
    "cv2.namedWindow(\"src\", flags=cv2.WINDOW_FREERATIO)  # 윈도우 생성(윈도우 양식 설정, 기본값: None)\n",
    "# cv2.WINDOW_FREERATIO : 비율의 제한이 없는 경우 이미지를 최대한 확장\n",
    "cv2.resizeWindow(\"src\", 400, 200)   # 윈도우 크기 설정, 출력하는 이미지의 크기와 관련 없음.\n",
    "cv2.imshow(\"src\", src)\n",
    "cv2.waitKey(0)\n",
    "cv2.destroyWindow(\"src\")"
   ]
  },
  {
   "cell_type": "markdown",
   "metadata": {},
   "source": [
    "``` python\n",
    "# 마우스 콜백 설정 함수\n",
    "cv2.setMouseCallback(\n",
    "    windowName,\n",
    "    onMouse,\n",
    "    param = None    # 사용자 정의 데이터(param)은 모든 형식의 데이터를 전달할 수 있음. (원본 이미지, List, Tuple) \n",
    ")\n",
    "# 마우스 콜백 함수\n",
    "def fun_name(\n",
    "    event,\n",
    "    x,\n",
    "    y,\n",
    "    flags,\n",
    "    param\n",
    ")\n",
    "```"
   ]
  },
  {
   "cell_type": "code",
   "execution_count": 5,
   "metadata": {},
   "outputs": [],
   "source": [
    "def mouse_event(event, x, y, flags, param):\n",
    "    global radius\n",
    "    if event == cv2.EVENT_LBUTTONDOWN:  # 마우스를 누를때\n",
    "        cv2.circle(param, (x, y), radius, (255, 0, 0), 2)\n",
    "        cv2.imshow(\"draw\", src)\n",
    "\n",
    "    elif event == cv2.EVENT_MOUSEWHEEL:\n",
    "        if flags > 0:\n",
    "            radius += 1\n",
    "        elif radius > 1:\n",
    "            radius -= 1\n",
    "\n",
    "radius = 3\n",
    "src = np.full((500, 500, 3), 255, dtype=np.uint8)\n",
    "\n",
    "cv2.imshow(\"draw\", src)\n",
    "cv2.setMouseCallback(\"draw\", mouse_event, src)\n",
    "cv2.waitKey()\n",
    "cv2.destroyAllWindows()"
   ]
  },
  {
   "cell_type": "markdown",
   "metadata": {},
   "source": [
    "#### 3. 동영상 입력"
   ]
  },
  {
   "cell_type": "code",
   "execution_count": 6,
   "metadata": {},
   "outputs": [],
   "source": [
    "capture = cv2.VideoCapture(\"C:\\\\Source\\\\openCV\\\\basic-openCV\\\\images\\\\Star.mp4\")\n",
    "\n",
    "while True:\n",
    "    ret, frame = capture.read() # ret(bool)은 정상적으로 프레임을 읽었는지, frame(ndarray) 현재 프레임\n",
    "\n",
    "    # 현재 프레임의 수 == 총 프레임 수\n",
    "    if(capture.get(cv2.CAP_PROP_POS_FRAMES) == capture.get(cv2.CAP_PROP_FRAME_COUNT)):\n",
    "        capture.open(\"C:\\\\Source\\\\openCV\\\\basic-openCV\\\\images\\\\Star.mp4\")\n",
    "\n",
    "    cv2.imshow(\"VideoFrame\", frame)\n",
    "    if cv2.waitKey(33) == ord('q'): break   # 프레임당 33ms => 약 30FPS\n",
    "    # capture.get(cv2.CAP_PROP_FPS)로 동영상 파일의 프레임을 알 수 이음\n",
    "capture.release()   # 동영상 파일 닫고 메모리 해제\n",
    "cv2.destroyAllWindows()"
   ]
  },
  {
   "cell_type": "markdown",
   "metadata": {},
   "source": [
    "#### 4. 카메라 출력"
   ]
  },
  {
   "cell_type": "markdown",
   "metadata": {},
   "source": [
    "#### 5. 이미지 연결\n",
    "\n",
    "``` python\n",
    "# 수평 이미지 연결 함수\n",
    "dst = cv2.hconcat(\n",
    "    src\n",
    ")\n",
    "\n",
    "# 수직 이미지 연결함수\n",
    "dst = cv2.vconcat(\n",
    "    src\n",
    ")\n",
    "\n",
    "```"
   ]
  },
  {
   "cell_type": "code",
   "execution_count": 7,
   "metadata": {},
   "outputs": [],
   "source": [
    "one = cv2.imread(\"C:\\\\Source\\\\openCV\\\\basic-openCV\\\\images\\\\one.jpg\")\n",
    "two = cv2.imread(\"C:\\\\Source\\\\openCV\\\\basic-openCV\\\\images\\\\two.jpg\")\n",
    "three = cv2.imread(\"C:\\\\Source\\\\openCV\\\\basic-openCV\\\\images\\\\three.jpg\")\n",
    "four = cv2.imread(\"C:\\\\Source\\\\openCV\\\\basic-openCV\\\\images\\\\four.jpg\")\n",
    "\n",
    "\n",
    "horizontal1 = np.full((50, one.shape[1], 3), [0,0,0], dtype=np.uint8)\n",
    "horizontal2 = np.full((50, two.shape[1], 3), [0,0,0], dtype=np.uint8)\n",
    "\n",
    "left = cv2.vconcat((one, horizontal1, three))\n",
    "#left = np.vstack((one, horizontal1, three))\n",
    "#right = cv2.vconcat((two, horizontal2, three))\n",
    "right = np.vstack((two, horizontal2, four)) # Numpy함수를 이용해서도 이미지 변경 가능(배열 병합 및 분리)\n",
    "\n",
    "vertical = np.full((left.shape[0], 50, 3), 0, dtype=np.uint8)\n",
    "\n",
    "dst = cv2.hconcat((left, vertical, right))\n",
    "# dst = np.hstatck((left, vertical, right))\n",
    "# dst = np.concatenate((left, line, right), axis=1)\n",
    "\n",
    "cv2.imshow(\"dst\", dst)\n",
    "cv2.waitKey()\n",
    "cv2.destroyAllWindows()"
   ]
  },
  {
   "cell_type": "markdown",
   "metadata": {},
   "source": [
    "#### 6. 도형 그리기\n",
    "\n",
    "- 위치, 두께, 색상, 선형 타입, 비트 시프트\n",
    "\n",
    "1. 선형 타입\n",
    "    - **브레젠험 알고리즘(Bresenham's algorithm) 방식**  \n",
    "    일반적으로 직선의 방성식에 의한 좌표는 실수 형태.  \n",
    "    but, 이미지는 래스터 형식의 사각형 격자 구조의 행렬, 점의 점표는 모두 정수의 값  \n",
    "    => 실수 연산을 하지 않고 정수 연산으로만 선을 그릴 수 있도록 개발한 알고리즘\n",
    "        - 4연결 방식: 선분의 위치를 보고, 오른쪽, 왼쪽 위쪽, 아래쪽 영역 고려\n",
    "        - 8연결 방식: 선분의 위치를 보고, 대각선 방향까지 추가 (총 8개의 위치 고려)\n",
    "\n",
    "    - **안티 에일리어싱(Anti-Aliasing) 방식**  \n",
    "    영상의 결함을 없애기 위한 기법  \n",
    "    계단 현상을 없애고 부드럽게 보이게 하는 방식  \n",
    "    가우스 필터링을 사용, 넓은 선의 경우 항상 둥글게 그려짐.  \n",
    "\n",
    "    - 내부 채우기 방식\n",
    "\n",
    "2. 비트 시프트  \n",
    "도형 그리기 함수에서 사용되는 값은 일반적으로 정수값.  \n",
    "but, 비트 시프트를 활용하면 실숫값 좌표로도 도형 그리기 함수를 사용할 수 있음.  \n",
    "서브 픽셀(sub pixel) 정렬을 지원하여 소수점 이하 자릿수를 표현  \n",
    "\n",
    "    오른쪽 시프트 연산으로 간주해서 이해(마지막에 반올림)  \n",
    "0100(2) -> 0010(2)\n",
    "\n",
    "    - 0-shift\n",
    "    (2,2) (8,5) 선분\n",
    "    - 1-shift\n",
    "    (2,2) (8,5) -> (1,1) (4, 2.5) -> (1,1) (4,3) 선분\n",
    "    - 2-shift\n",
    "    (2,2) (8,5) -> (0.5,0.5) (2,1.25) -> (1,1) (2,1) 선분\n",
    "\n",
    "##### 1.직선 그리기\n",
    "``` python\n",
    "cv2.line(\n",
    "    img,\n",
    "    pt1,    # 시작 좌표\n",
    "    pt2,    # 도착 좌표\n",
    "    color,  # BGR형식\n",
    "    thickness = None,\n",
    "    lineType = None,    # 선형 타입\n",
    "    shift = None    # 비트 시프트, 실숫값으로 처리할 좌표(pt)의 비트 값\n",
    ")\n",
    "```"
   ]
  },
  {
   "cell_type": "code",
   "execution_count": 8,
   "metadata": {},
   "outputs": [],
   "source": [
    "img = np.zeros((768, 1366, 3), dtype = np.uint8)\n",
    "\n",
    "cv2.line(img, (100, 100), (1200, 100), (0, 0, 255), 3, cv2.LINE_AA)\n",
    "\n",
    "cv2.imshow(\"img\", img)\n",
    "cv2.waitKey(0)\n",
    "cv2.destroyAllWindows()"
   ]
  },
  {
   "cell_type": "markdown",
   "metadata": {},
   "source": [
    "##### 2. 사각형 그리기\n",
    "``` python\n",
    "cv2.rectangle(\n",
    "    img,\n",
    "    pt1,    # 좌측 상단 모서리 좌표\n",
    "    pt2,    # 우측 하단 모서리 좌표\n",
    "    color,  # BGR형식\n",
    "    thickness = None,\n",
    "    lineType = None,\n",
    "    shift = None\n",
    ")\n",
    "```"
   ]
  },
  {
   "cell_type": "code",
   "execution_count": 9,
   "metadata": {},
   "outputs": [],
   "source": [
    "cv2.rectangle(img, (500, 200), (1000, 400), (255, 0, 0), 5, cv2.LINE_8)\n",
    "\n",
    "cv2.imshow(\"img\", img)\n",
    "cv2.waitKey(0)\n",
    "cv2.destroyAllWindows()"
   ]
  },
  {
   "cell_type": "markdown",
   "metadata": {},
   "source": [
    "\n",
    "##### 3. 원 그리기\n",
    "``` python\n",
    "cv2.circle(\n",
    "    img,\n",
    "    center,    # 원의 중심\n",
    "    radius,    # 반지름\n",
    "    color,  # BGR형식\n",
    "    thickness = None,\n",
    "    lineType = None,\n",
    "    shift = None\n",
    ")\n",
    "```"
   ]
  },
  {
   "cell_type": "code",
   "execution_count": 10,
   "metadata": {},
   "outputs": [],
   "source": [
    "cv2.circle(img, (300, 300), 50, (0, 255, 0), cv2.FILLED, cv2.LINE_4)\n",
    "\n",
    "cv2.imshow(\"img\", img)\n",
    "cv2.waitKey(0)\n",
    "cv2.destroyAllWindows()"
   ]
  },
  {
   "cell_type": "markdown",
   "metadata": {},
   "source": [
    "\n",
    "##### 4. 호 그리기\n",
    "``` python\n",
    "cv2.ellipse(\n",
    "    img,\n",
    "    center,    # 원의 중심\n",
    "    axes,      # 장축과 단축\n",
    "    angle,     # 각도(장축으로부터 기울어진 각도)\n",
    "    startAngle, # 시작각도\n",
    "    endAngle,    # 도착 각도\n",
    "    color,  # BGR형식\n",
    "    thickness = None,\n",
    "    lineType = None,\n",
    "    shift = None\n",
    ")\n",
    "```"
   ]
  },
  {
   "cell_type": "code",
   "execution_count": 11,
   "metadata": {},
   "outputs": [],
   "source": [
    "cv2.ellipse(img, (1200, 300), (100,  50), 0, 50, 180, (255, 255, 0), 2)\n",
    "\n",
    "cv2.imshow(\"img\", img)\n",
    "cv2.waitKey(0)\n",
    "cv2.destroyAllWindows()"
   ]
  },
  {
   "cell_type": "markdown",
   "metadata": {},
   "source": [
    "\n",
    "##### 5. 내부가 채워지지 않은 다각형 그리기\n",
    "``` python\n",
    "cv2.FillPoly(\n",
    "    img,\n",
    "    pts,    # 선들의 묶음\n",
    "    isClosed\n",
    "    color,  # BGR형식\n",
    "    lineType = None,\n",
    "    shift = None\n",
    "    offset = None\n",
    ")\n",
    "```"
   ]
  },
  {
   "cell_type": "code",
   "execution_count": 12,
   "metadata": {},
   "outputs": [],
   "source": [
    "pts1 = np.array([[[100, 500], [300, 500], [200, 600]], [[400, 500], [500, 500], [600, 700]]])   # 동일한 꼭짓점 개수를 갖는 다각형만 가능\n",
    "cv2.polylines(img, pts1, True, (0, 255, 255), 2)\n",
    "\n",
    "cv2.imshow(\"img\", img)\n",
    "cv2.waitKey(0)\n",
    "cv2.destroyAllWindows()"
   ]
  },
  {
   "cell_type": "markdown",
   "metadata": {},
   "source": [
    "\n",
    "##### 6. 내부가 채워진 다각형 그리기\n",
    "``` python\n",
    "cv2.polylines(\n",
    "    img,\n",
    "    pts,    # 선들의 묶음\n",
    "    color,  # BGR형식\n",
    "    lineType = None,\n",
    "    shift = None\n",
    "    offset = None\n",
    ")\n",
    "```"
   ]
  },
  {
   "cell_type": "code",
   "execution_count": 13,
   "metadata": {},
   "outputs": [],
   "source": [
    "pts2 = np.array([[700, 500], [800, 500], [700, 600]])\n",
    "cv2.fillPoly(img, [pts2], (255, 0, 255), cv2.LINE_AA)\n",
    "\n",
    "\n",
    "cv2.imshow(\"img\", img)\n",
    "cv2.waitKey(0)\n",
    "cv2.destroyAllWindows()"
   ]
  },
  {
   "cell_type": "markdown",
   "metadata": {},
   "source": [
    "##### 7. 문자 그리기\n",
    "``` python\n",
    "cv2.putText(\n",
    "    img,\n",
    "    text,\n",
    "    org,    # 텍스트 박스의 좌측 상단 모서리 기준\n",
    "    fontFace, # 글꼴\n",
    "    fontScale,  # 글자 크기# 그래픽스나 문자열 입력값에서 사용하는 글자 크기 단위 아님. 글꼴도\n",
    "    color,\n",
    "    thickness = None,\n",
    "    lineType = None,\n",
    "    bottomLeftOrigin = None # 텍스트 박스의 좌측 하단 모서리를 사용할경우 true로 지정\n",
    ")\n",
    "```"
   ]
  },
  {
   "cell_type": "code",
   "execution_count": 14,
   "metadata": {},
   "outputs": [],
   "source": [
    "cv2.putText(img, \"OpenCV\", (900, 600), cv2.FONT_HERSHEY_COMPLEX | cv2.FONT_ITALIC, 2, (255, 255, 255), 3)\n",
    "\n",
    "cv2.imshow(\"img\", img)\n",
    "cv2.waitKey(0)\n",
    "cv2.destroyAllWindows()"
   ]
  },
  {
   "cell_type": "markdown",
   "metadata": {},
   "source": [
    "#### 7. 트랙 바\n",
    "일정 범위 내의 값을 변경할때 주로 사용, 적절한 임계값을 찾거나 변경하기 위해 사용\n",
    "\n",
    "``` python\n",
    "# 트랙 바 생성 함수\n",
    "cv2.createTrackbar(\n",
    "    trackbarName,\n",
    "    windowName,\n",
    "    value,\n",
    "    count,  # 최대값\n",
    "    onChange    # 콜백 함수 # c#에서와 달리 필수임\n",
    ")\n",
    "```\n",
    "\n",
    "``` python\n",
    "# 트랙 바 위치 반환 함수\n",
    "retval = cv2.getTrackbarPos(\n",
    "    trackbarName,\n",
    "    windowName\n",
    ")\n",
    "```"
   ]
  },
  {
   "cell_type": "code",
   "execution_count": 15,
   "metadata": {},
   "outputs": [],
   "source": [
    "def onChangeBlue(pos):\n",
    "    global b\n",
    "    b = pos\n",
    "    cv2.imshow(\"Palette\", createImage(b,g,r))\n",
    "\n",
    "def createImage(b, g, r):\n",
    "    return np.full((500, 500, 3), (b, g, r), dtype = np.uint8)\n",
    "\n",
    "b, g, r = 0, 0, 0\n",
    "cv2.namedWindow(\"Palette\")\n",
    "cv2.createTrackbar(\"Blue\", \"Palette\", 55, 255, onChangeBlue)\n",
    "cv2.createTrackbar(\"Green\", \"Palette\", 0, 255, lambda x:x)        # 콜백함수를 사용하지 않을 때는 익명함수(람수 함수)를 활용할 수 있음\n",
    "cv2.createTrackbar(\"Red\", \"Palette\", 0, 255, lambda x:x)       \n",
    "\n",
    "while True:\n",
    "    g = cv2.getTrackbarPos(\"Green\", \"Palette\")\n",
    "    r = cv2.getTrackbarPos(\"Red\", \"Palette\")\n",
    "\n",
    "    cv2.imshow(\"Palette\", createImage(b,g,r))\n",
    "    if cv2.waitKey(33) & 0xFF == ord('q'):\n",
    "        break\n",
    "\n",
    "cv2.destroyAllWindows()"
   ]
  },
  {
   "cell_type": "markdown",
   "metadata": {},
   "source": [
    "#### 이미지 저장\n",
    "\n",
    "``` python\n",
    "cv2.imwrite(\n",
    "    fileaname,\n",
    "    img,\n",
    "    params = None\n",
    ")\n",
    "```"
   ]
  },
  {
   "cell_type": "code",
   "execution_count": 16,
   "metadata": {},
   "outputs": [
    {
     "name": "stdout",
     "output_type": "stream",
     "text": [
      "True\n"
     ]
    }
   ],
   "source": [
    "img = np.zeros((480, 640, 3), dtype = np.uint8)\n",
    "\n",
    "save = cv2.imwrite(\"CV.jpeg\", img, (cv2.IMWRITE_JPEG_QUALITY, 200, cv2.IMWRITE_JPEG_PROGRESSIVE, 1))\n",
    "print(save)"
   ]
  },
  {
   "cell_type": "markdown",
   "metadata": {},
   "source": [
    "#### 동영상 저장\n",
    "``` python\n",
    "# 동영상 저장 구조 생성\n",
    "capture.open(\n",
    "    filename,\n",
    "    foucc,  # 동영상 파일을 저장할 때 사용할 압축 코덱(디지털 포맷 코드)\n",
    "    fps,\n",
    "    frameSize,\n",
    "    isColor = true\n",
    "\n",
    " # 동영상 파일에 플레임을 저장\n",
    "videoWriter.write(image)   \n",
    ")\n",
    "```"
   ]
  },
  {
   "cell_type": "code",
   "execution_count": 17,
   "metadata": {},
   "outputs": [],
   "source": [
    "capture = cv2.VideoCapture(\"C:\\\\Source\\\\openCV\\\\basic-openCV\\\\images\\\\Star.mp4\")\n",
    "width = int(capture.get(cv2.CAP_PROP_FRAME_WIDTH))\n",
    "height = int(capture.get(cv2.CAP_PROP_FRAME_HEIGHT))\n",
    "videoWriter = cv2.VideoWriter() # 녹화를 위한 메로리를 할당\n",
    "isWrite = False\n",
    "\n",
    "while True:\n",
    "    ret, frame = capture.read()\n",
    "\n",
    "    if(capture.get(cv2.CAP_PROP_POS_FRAMES) == capture.get(cv2.CAP_PROP_FRAME_COUNT)):\n",
    "        capture.open(\"C:\\\\Source\\\\openCV\\\\basic-openCV\\\\images\\\\Star.mp4\")\n",
    "\n",
    "    cv2.imshow(\"VideoFrame\", frame)  \n",
    "    key = cv2.waitKey(33)      \n",
    "\n",
    "    if key == 4:\n",
    "        fourcc = cv2.VideoWriter_fourcc(*'XVID')\n",
    "        videoWriter.open(\"Video.avi\", fourcc, 30, (width, height), True)   \n",
    "        isWrite = True\n",
    "    elif key == 24:\n",
    "        videoWriter.release()\n",
    "        isWrite = False\n",
    "\n",
    "    elif key == ord('q'): break\n",
    "\n",
    "    if isWrite == True:\n",
    "        videoWriter.write(frame)    # 동영상 파일에 플레임을 저장\n",
    "\n",
    "videoWriter.release()   # 동영상 저장 구조 메모리 해제\n",
    "capture.release()\n",
    "cv2.destroyAllWindows()\n"
   ]
  },
  {
   "cell_type": "code",
   "execution_count": null,
   "metadata": {},
   "outputs": [],
   "source": []
  }
 ],
 "metadata": {
  "kernelspec": {
   "display_name": "Python 3",
   "language": "python",
   "name": "python3"
  },
  "language_info": {
   "codemirror_mode": {
    "name": "ipython",
    "version": 3
   },
   "file_extension": ".py",
   "mimetype": "text/x-python",
   "name": "python",
   "nbconvert_exporter": "python",
   "pygments_lexer": "ipython3",
   "version": "3.12.2"
  }
 },
 "nbformat": 4,
 "nbformat_minor": 2
}
