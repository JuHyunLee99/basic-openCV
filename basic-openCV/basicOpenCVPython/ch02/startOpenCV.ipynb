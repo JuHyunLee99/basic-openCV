{
 "cells": [
  {
   "cell_type": "markdown",
   "metadata": {},
   "source": [
    "## OpenCV 시작하기\n",
    "### 이미지 크기, 채널, 정밀도\n",
    "\n",
    "``` python\n",
    "color = np.zero((height, width, 3), np.uint8)  \n",
    "gray = np.zeros((rows, cols, 2), np.uint8)\n",
    "```"
   ]
  },
  {
   "cell_type": "markdown",
   "metadata": {},
   "source": [
    "### ROI(관심채널)\n",
    "### 히스토그램\n",
    "\n",
    "``` python\n",
    "hist = cv2.calcHist(\n",
    "    images,\n",
    "    channels,\n",
    "    masks,\n",
    "    histSize,\n",
    "    ranges,\n",
    "    hist = None,\n",
    "    accumulate = False\n",
    ")\n",
    "\n",
    "```"
   ]
  },
  {
   "cell_type": "code",
   "execution_count": 6,
   "metadata": {},
   "outputs": [
    {
     "name": "stderr",
     "output_type": "stream",
     "text": [
      "C:\\Users\\ACTRO\\AppData\\Local\\Temp\\ipykernel_10808\\2311434864.py:12: DeprecationWarning: Conversion of an array with ndim > 0 to a scalar is deprecated, and will error in future. Ensure you extract a single element from your array before performing this operation. (Deprecated NumPy 1.25.)\n",
      "  cv2.line(result, (int(x), image.shape[0]), (int(x), image.shape[0] - int(y)), 255)\n"
     ]
    }
   ],
   "source": [
    "import cv2\n",
    "import numpy as np\n",
    "\n",
    "image = cv2.imread(\"image.jpg\")\n",
    "gray = cv2.cvtColor(image, cv2.COLOR_BGR2GRAY)\n",
    "result = np.zeros((image.shape[0], 256), dtype=np.uint8)\n",
    "\n",
    "his = cv2.calcHist([image], [0], None, [256], [0, 256])\n",
    "cv2.normalize(his, his, 0, 255, cv2.NORM_MINMAX)\n",
    "\n",
    "for x, y in enumerate(his):\n",
    "    cv2.line(result, (int(x), image.shape[0]), (int(x), image.shape[0] - int(y)), 255)\n",
    "\n",
    "dst = np.hstack([image[:, :, 0], result])\n",
    "cv2.imshow(\"dst\", dst)\n",
    "cv2.waitKey(0)\n",
    "cv2.destroyAllWindows()"
   ]
  },
  {
   "cell_type": "code",
   "execution_count": null,
   "metadata": {},
   "outputs": [],
   "source": []
  }
 ],
 "metadata": {
  "kernelspec": {
   "display_name": "Python 3",
   "language": "python",
   "name": "python3"
  },
  "language_info": {
   "codemirror_mode": {
    "name": "ipython",
    "version": 3
   },
   "file_extension": ".py",
   "mimetype": "text/x-python",
   "name": "python",
   "nbconvert_exporter": "python",
   "pygments_lexer": "ipython3",
   "version": "3.12.2"
  }
 },
 "nbformat": 4,
 "nbformat_minor": 2
}
